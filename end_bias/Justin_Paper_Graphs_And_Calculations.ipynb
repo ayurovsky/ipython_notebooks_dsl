{
 "cells": [
  {
   "cell_type": "markdown",
   "metadata": {},
   "source": [
    "## Correlations Between Old and New Cerevisiae RRT"
   ]
  },
  {
   "cell_type": "code",
   "execution_count": 19,
   "metadata": {
    "collapsed": false
   },
   "outputs": [
    {
     "name": "stdout",
     "output_type": "stream",
     "text": [
      "0.796192490746\n",
      "0.708054690364\n"
     ]
    }
   ],
   "source": [
    "%matplotlib inline\n",
    "import matplotlib.pyplot as plt\n",
    "import time\n",
    "import pandas as pd\n",
    "import scipy.stats as stats\n",
    "start_time = time.time()\n",
    "from IPython.display import display\n",
    "pd.set_option('display.notebook_repr_html', True)\n",
    "# cerevisiae \n",
    "df = pd.read_csv(\"e_life_window_dLys_paper.csv\",header=None)\n",
    "df_new = pd.read_csv(\"window_stage2_cerevisiae_all_jan_corrected_v6_annotated_for_graphs.csv\",header=None)\n",
    "df_rrt = df[6]/(1/10)\n",
    "df_new_rrt = df_new[6]/(1/9)\n",
    "rho, pval = stats.spearmanr(df_rrt,df_new_rrt)\n",
    "print(rho)\n",
    "rho, pval = stats.pearsonr(df_rrt,df_new_rrt)\n",
    "print(rho)\n"
   ]
  },
  {
   "cell_type": "code",
   "execution_count": null,
   "metadata": {
    "collapsed": true
   },
   "outputs": [],
   "source": []
  },
  {
   "cell_type": "code",
   "execution_count": null,
   "metadata": {
    "collapsed": true
   },
   "outputs": [],
   "source": []
  }
 ],
 "metadata": {
  "kernelspec": {
   "display_name": "Python 3",
   "language": "python",
   "name": "python3"
  },
  "language_info": {
   "codemirror_mode": {
    "name": "ipython",
    "version": 3
   },
   "file_extension": ".py",
   "mimetype": "text/x-python",
   "name": "python",
   "nbconvert_exporter": "python",
   "pygments_lexer": "ipython3",
   "version": "3.4.3"
  }
 },
 "nbformat": 4,
 "nbformat_minor": 0
}
