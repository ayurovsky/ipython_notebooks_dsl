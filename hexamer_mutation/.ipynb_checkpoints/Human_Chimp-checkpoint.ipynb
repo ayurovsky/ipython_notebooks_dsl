{
 "cells": [
  {
   "cell_type": "markdown",
   "metadata": {},
   "source": [
    "## http://hgdownload.cse.ucsc.edu/goldenPath/hg38/vsPanTro5/\n",
    "## hg38.panTro5.net.axt.gz    04-Aug-2016 01:50  1.5G "
   ]
  },
  {
   "cell_type": "code",
   "execution_count": 2,
   "metadata": {
    "collapsed": false
   },
   "outputs": [
    {
     "data": {
      "text/html": [
       "<script>\n",
       "code_show=true; \n",
       "function code_toggle() {\n",
       " if (code_show){\n",
       " $('div.input').hide();\n",
       " } else {\n",
       " $('div.input').show();\n",
       " }\n",
       " code_show = !code_show\n",
       "} \n",
       "$( document ).ready(code_toggle);\n",
       "</script>\n",
       "The raw code for this IPython notebook is by default hidden for easier reading.\n",
       "To toggle on/off the raw code, click <a href=\"javascript:code_toggle()\">here</a>."
      ],
      "text/plain": [
       "<IPython.core.display.HTML object>"
      ]
     },
     "execution_count": 2,
     "metadata": {},
     "output_type": "execute_result"
    }
   ],
   "source": [
    "from IPython.display import HTML\n",
    "HTML('''<script>\n",
    "code_show=true; \n",
    "function code_toggle() {\n",
    " if (code_show){\n",
    " $('div.input').hide();\n",
    " } else {\n",
    " $('div.input').show();\n",
    " }\n",
    " code_show = !code_show\n",
    "} \n",
    "$( document ).ready(code_toggle);\n",
    "</script>\n",
    "The raw code for this IPython notebook is by default hidden for easier reading.\n",
    "To toggle on/off the raw code, click <a href=\"javascript:code_toggle()\">here</a>.''')"
   ]
  },
  {
   "cell_type": "markdown",
   "metadata": {},
   "source": [
    "# Version 3 Visualization"
   ]
  },
  {
   "cell_type": "markdown",
   "metadata": {},
   "source": [
    "## Two-mer matrix: AA -> AC = ln (observed/expected) ;  \n",
    "## observed = # AA->AC, expected = #AA * pr(A->A) * pr(A->C)"
   ]
  },
  {
   "cell_type": "code",
   "execution_count": null,
   "metadata": {
    "collapsed": true
   },
   "outputs": [],
   "source": [
    "%matplotlib inline\n",
    "import numpy as np\n",
    "import pandas as pd\n",
    "import matplotlib.pyplot as plt\n",
    "import csv\n",
    "from itertools import product\n",
    "\n",
    "import datetime as dt\n",
    "n1=dt.datetime.now()\n",
    "\n",
    "bases=['A','C','G','T']\n",
    "k = 2\n",
    "\n",
    "        \n",
    "count_table = pd.read_csv(\"/home/alisay/hexamer_mutation_data/hg38.panTro5.one_mers_transitions\",index_col=0, header=0)\n",
    "#print(count_table)\n",
    "\n",
    "# fill the diagonal with very high values\n",
    "np.fill_diagonal(count_table.values, 10000000)\n",
    "\n",
    "\n",
    "plt.figure(1, figsize=(10, 7))\n",
    "ax = plt.subplot(1, 1, 1)\n",
    "heatmap = ax.pcolor(count_table, cmap=plt.cm.Blues)\n",
    "plt.colorbar(heatmap)\n",
    "\n",
    "# turn off the frame\n",
    "ax.set_frame_on(False)\n",
    "\n",
    "# put the major ticks at the middle of each cell\n",
    "ax.set_yticks(np.arange(count_table.shape[0]) + 0.5, minor=False)\n",
    "ax.set_xticks(np.arange(count_table.shape[1]) + 0.5, minor=False)\n",
    "\n",
    "#make display more natural\n",
    "ax.invert_yaxis()\n",
    "ax.xaxis.tick_top()\n",
    "ax.xaxis.set_label_position('top')\n",
    "\n",
    "# set labels\n",
    "ax.set_xticklabels(count_table.columns, minor=False)\n",
    "ax.set_yticklabels(count_table.index, minor=False)\n",
    "\n",
    "# rotate the x labels\n",
    "#plt.xticks(rotation=90)\n",
    "\n",
    "#ax.grid(True)\n",
    "ax.grid(False)\n",
    "\n",
    "# Turn off all the ticks\n",
    "ax = plt.gca()\n",
    "\n",
    "for t in ax.xaxis.get_major_ticks():\n",
    "    t.tick1On = False\n",
    "    t.tick2On = False\n",
    "for t in ax.yaxis.get_major_ticks():\n",
    "    t.tick1On = False\n",
    "    t.tick2On = False\n",
    "    \n",
    "plt.xlabel(\"Chimp\")\n",
    "plt.ylabel(\"Human\")\n",
    "\n",
    "plt.show()"
   ]
  },
  {
   "cell_type": "markdown",
   "metadata": {
    "collapsed": true
   },
   "source": [
    "## One-mer matrix: There are twice as many A->G (~0.8 %) as (A->T + A->C = ~0.2%) - seems about right"
   ]
  },
  {
   "cell_type": "code",
   "execution_count": 1,
   "metadata": {
    "collapsed": false
   },
   "outputs": [
    {
     "data": {
      "image/png": "[encoded data removed]",
      "text/plain": [
       "<matplotlib.figure.Figure at 0x7fb4036eaa90>"
      ]
     },
     "metadata": {},
     "output_type": "display_data"
    }
   ],
   "source": [
    "%matplotlib inline\n",
    "import numpy as np\n",
    "import pandas as pd\n",
    "import matplotlib.pyplot as plt\n",
    "import csv\n",
    "from itertools import product\n",
    "\n",
    "import datetime as dt\n",
    "n1=dt.datetime.now()\n",
    "\n",
    "bases=['A','C','G','T']\n",
    "k = 2\n",
    "\n",
    "        \n",
    "count_table = pd.read_csv(\"/home/alisay/hexamer_mutation_data/hg38.panTro5.one_mers_transitions\",index_col=0, header=0)\n",
    "#print(count_table)\n",
    "\n",
    "# fill the diagonal with very high values\n",
    "np.fill_diagonal(count_table.values, 10000000)\n",
    "\n",
    "\n",
    "plt.figure(1, figsize=(10, 7))\n",
    "ax = plt.subplot(1, 1, 1)\n",
    "heatmap = ax.pcolor(count_table, cmap=plt.cm.Blues)\n",
    "plt.colorbar(heatmap)\n",
    "\n",
    "# turn off the frame\n",
    "ax.set_frame_on(False)\n",
    "\n",
    "# put the major ticks at the middle of each cell\n",
    "ax.set_yticks(np.arange(count_table.shape[0]) + 0.5, minor=False)\n",
    "ax.set_xticks(np.arange(count_table.shape[1]) + 0.5, minor=False)\n",
    "\n",
    "#make display more natural\n",
    "ax.invert_yaxis()\n",
    "ax.xaxis.tick_top()\n",
    "ax.xaxis.set_label_position('top')\n",
    "\n",
    "# set labels\n",
    "ax.set_xticklabels(count_table.columns, minor=False)\n",
    "ax.set_yticklabels(count_table.index, minor=False)\n",
    "\n",
    "# rotate the x labels\n",
    "#plt.xticks(rotation=90)\n",
    "\n",
    "#ax.grid(True)\n",
    "ax.grid(False)\n",
    "\n",
    "# Turn off all the ticks\n",
    "ax = plt.gca()\n",
    "\n",
    "for t in ax.xaxis.get_major_ticks():\n",
    "    t.tick1On = False\n",
    "    t.tick2On = False\n",
    "for t in ax.yaxis.get_major_ticks():\n",
    "    t.tick1On = False\n",
    "    t.tick2On = False\n",
    "    \n",
    "plt.xlabel(\"Chimp\")\n",
    "plt.ylabel(\"Human\")\n",
    "\n",
    "plt.show()"
   ]
  },
  {
   "cell_type": "markdown",
   "metadata": {},
   "source": [
    "# Version 3 Calculation:  just get the raw values of transitions from kmer to kmer"
   ]
  },
  {
   "cell_type": "code",
   "execution_count": null,
   "metadata": {
    "collapsed": false
   },
   "outputs": [
    {
     "name": "stdout",
     "output_type": "stream",
     "text": [
      "3506\n"
     ]
    }
   ],
   "source": [
    "import csv\n",
    "from itertools import product\n",
    "\n",
    "import datetime as dt\n",
    "n1=dt.datetime.now()\n",
    "\n",
    "bases=['A','C','G','T']\n",
    "k = 2\n",
    "kmer_dict = dict()\n",
    "kmer_freq = dict()\n",
    "kmer_list = [''.join(p) for p in product(bases, repeat=k)]\n",
    "for i in kmer_list:\n",
    "    kmer_dict[i] = dict()\n",
    "    kmer_freq[i] = 0 # keeps track of the frequency of a particular k-mer\n",
    "    for j in kmer_list:\n",
    "        kmer_dict[i][j] = 0\n",
    "\n",
    "file = open('/home/alisay/hexamer_mutation_data/hg38.panTro5.net.axt', \"r+\")\n",
    "out_file_transitions = open('/home/alisay/hexamer_mutation_data/hg38.panTro5.two_mers_transitions', \"w\")\n",
    "out_file_frequency = open('/home/alisay/hexamer_mutation_data/hg38.panTro5.two_mers_frequency', \"w\")\n",
    "thedatawriter_transitions = csv.writer(out_file_transitions)\n",
    "thedatawriter_frequency = csv.writer(out_file_frequency)\n",
    "\n",
    "counter = 1\n",
    "while True:\n",
    "    line = file.readline()\n",
    "    if not line: break\n",
    "    if line.startswith(\"#\") or line.startswith(\"\\n\"):\n",
    "        continue\n",
    "    counter += 1\n",
    "    human = file.readline().strip().upper()\n",
    "    if not human: break\n",
    "    chimp = file.readline().strip().upper()\n",
    "    for idx in range(0,len(human)-k):\n",
    "        h_kmer = human[idx:(idx+k)]\n",
    "        c_kmer = chimp[idx:(idx+k)]\n",
    "        if (h_kmer in kmer_dict):\n",
    "            if (c_kmer in kmer_dict[h_kmer]):\n",
    "                kmer_freq[h_kmer] += 1 # update the frequency in the human genome\n",
    "                kmer_dict[h_kmer][c_kmer] += 1 \n",
    "    #if(counter%1000==0):\n",
    "     #   print(counter)\n",
    "        \n",
    "#output\n",
    "thedatawriter_transitions.writerow([\"kmer\"] + kmer_list)\n",
    "thedatawriter_frequency.writerow([\"kmer\",\"frequency\"])\n",
    "for i in kmer_list:\n",
    "    row = [i]\n",
    "    frequency_row = [i]\n",
    "    frequency_row.append(kmer_freq[i])\n",
    "    thedatawriter_frequency.writerow(frequency_row)\n",
    "    for j in kmer_list:\n",
    "        row.append(kmer_dict[i][j])\n",
    "    thedatawriter_transitions.writerow(row)\n",
    "out_file_transitions.close()  \n",
    "out_file_frequency.close()\n",
    "\n",
    "n2=dt.datetime.now()\n",
    "print((n2-n1).seconds)"
   ]
  },
  {
   "cell_type": "markdown",
   "metadata": {},
   "source": [
    "# Second Version Visualization\n",
    "## Explanation of the patterns for un-normalized two-mer transitions\n",
    "##  Symmetry is explained by, well, symmetry:  the AA->AG dark square has a symmetric AA->GA dark square;  the darkest tansitions are purine->purine and pyramidine->pyramidine; \n"
   ]
  },
  {
   "cell_type": "code",
   "execution_count": 45,
   "metadata": {
    "collapsed": false
   },
   "outputs": [
    {
     "data": {
      "image/png": "[encoded data removed]",
      "text/plain": [
       "<matplotlib.figure.Figure at 0x7fb3cdbd2c50>"
      ]
     },
     "metadata": {},
     "output_type": "display_data"
    }
   ],
   "source": [
    "%matplotlib inline\n",
    "import numpy as np\n",
    "import pandas as pd\n",
    "import matplotlib.pyplot as plt\n",
    "import csv\n",
    "from itertools import product\n",
    "\n",
    "import datetime as dt\n",
    "n1=dt.datetime.now()\n",
    "\n",
    "bases=['A','C','G','T']\n",
    "k = 2\n",
    "\n",
    "        \n",
    "count_table = pd.read_csv(\"/home/alisay/hexamer_mutation_data/hg38.panTro5.two_mers_full\",index_col=0, header=0)\n",
    "#print(count_table)\n",
    "\n",
    "# fill the diagonal with very high values\n",
    "np.fill_diagonal(count_table.values, 3000000)\n",
    "\n",
    "\n",
    "plt.figure(1, figsize=(10, 7))\n",
    "ax = plt.subplot(1, 1, 1)\n",
    "heatmap = ax.pcolor(count_table, cmap=plt.cm.Blues)\n",
    "plt.colorbar(heatmap)\n",
    "\n",
    "# turn off the frame\n",
    "ax.set_frame_on(False)\n",
    "\n",
    "# put the major ticks at the middle of each cell\n",
    "ax.set_yticks(np.arange(count_table.shape[0]) + 0.5, minor=False)\n",
    "ax.set_xticks(np.arange(count_table.shape[1]) + 0.5, minor=False)\n",
    "\n",
    "#make display more natural\n",
    "ax.invert_yaxis()\n",
    "ax.xaxis.tick_top()\n",
    "ax.xaxis.set_label_position('top')\n",
    "\n",
    "# set labels\n",
    "ax.set_xticklabels(count_table.columns, minor=False)\n",
    "ax.set_yticklabels(count_table.index, minor=False)\n",
    "\n",
    "# rotate the x labels\n",
    "#plt.xticks(rotation=90)\n",
    "\n",
    "#ax.grid(True)\n",
    "ax.grid(False)\n",
    "\n",
    "# Turn off all the ticks\n",
    "ax = plt.gca()\n",
    "\n",
    "for t in ax.xaxis.get_major_ticks():\n",
    "    t.tick1On = False\n",
    "    t.tick2On = False\n",
    "for t in ax.yaxis.get_major_ticks():\n",
    "    t.tick1On = False\n",
    "    t.tick2On = False\n",
    "    \n",
    "plt.xlabel(\"Chimp\")\n",
    "plt.ylabel(\"Human\")\n",
    "\n",
    "plt.show()"
   ]
  },
  {
   "cell_type": "markdown",
   "metadata": {},
   "source": [
    "# Second Version Code\n",
    "## counts no-changes, and when there is more than 1 difference between 2 n-mers\n",
    "## also, for each n-mer, normalize by the total n-mer count in the genome"
   ]
  },
  {
   "cell_type": "code",
   "execution_count": 30,
   "metadata": {
    "collapsed": false
   },
   "outputs": [
    {
     "name": "stdout",
     "output_type": "stream",
     "text": [
      "3694\n"
     ]
    }
   ],
   "source": [
    "import csv\n",
    "from itertools import product\n",
    "\n",
    "import datetime as dt\n",
    "n1=dt.datetime.now()\n",
    "\n",
    "bases=['A','C','G','T']\n",
    "k = 2\n",
    "kmer_dict = dict()\n",
    "kmer_freq = dict()\n",
    "kmer_list = [''.join(p) for p in product(bases, repeat=k)]\n",
    "for i in kmer_list:\n",
    "    kmer_dict[i] = dict()\n",
    "    kmer_freq[i] = 0 # keeps track of the frequency of a particular k-mer\n",
    "    for j in kmer_list:\n",
    "        kmer_dict[i][j] = 0\n",
    "\n",
    "file = open('/home/alisay/hexamer_mutation_data/hg38.panTro5.net.axt', \"r+\")\n",
    "out_file = # open('/home/alisay/hexamer_mutation_data/hg38.panTro5.two_mers', \"w\")\n",
    "thedatawriter = csv.writer(out_file)\n",
    "\n",
    "counter = 1\n",
    "while True:\n",
    "    line = file.readline()\n",
    "    if not line: break\n",
    "    if line.startswith(\"#\") or line.startswith(\"\\n\"):\n",
    "        continue\n",
    "    counter += 1\n",
    "    human = file.readline().strip().upper()\n",
    "    if not human: break\n",
    "    chimp = file.readline().strip().upper()\n",
    "    for idx in range(0,len(human)-k):\n",
    "        h_kmer = human[idx:(idx+k)]\n",
    "        c_kmer = chimp[idx:(idx+k)]\n",
    "        if (h_kmer in kmer_dict):\n",
    "            kmer_freq[h_kmer] += 1 # update the frequency in the human genome\n",
    "            if (c_kmer in kmer_dict[h_kmer]):\n",
    "                kmer_dict[h_kmer][c_kmer] += 1 \n",
    "    #if(counter%1000==0):\n",
    "     #   print(counter)\n",
    "        \n",
    "#output\n",
    "thedatawriter.writerow([\"kmer\"] + kmer_list)\n",
    "for i in kmer_list:\n",
    "    row = [i]\n",
    "    for j in kmer_list:\n",
    "        row.append(kmer_dict[i][j]/kmer_freq[i]) #normalize by the total occurrence of the kmer in human\n",
    "        #print(i, \" \", j, \" \", kmer_dict[i][j])\n",
    "    thedatawriter.writerow(row)\n",
    "out_file.close()  \n",
    "\n",
    "n2=dt.datetime.now()\n",
    "print((n2-n1).seconds)"
   ]
  },
  {
   "cell_type": "markdown",
   "metadata": {},
   "source": [
    "# First Version, does not count no-changes, or when there is more than 1 difference between 2 n-mers"
   ]
  },
  {
   "cell_type": "code",
   "execution_count": 17,
   "metadata": {
    "collapsed": false
   },
   "outputs": [
    {
     "name": "stdout",
     "output_type": "stream",
     "text": [
      "1747\n"
     ]
    }
   ],
   "source": [
    "import csv\n",
    "from itertools import product\n",
    "\n",
    "import datetime as dt\n",
    "n1=dt.datetime.now()\n",
    "\n",
    "bases=['A','C','G','T']\n",
    "k = 6\n",
    "kmer_dict = dict()\n",
    "kmer_list = [''.join(p) for p in product(bases, repeat=k)]\n",
    "for i in kmer_list:\n",
    "    kmer_dict[i] = dict()\n",
    "    for j in kmer_list:\n",
    "        kmer_dict[i][j] = 0\n",
    "\n",
    "file = open('/home/alisay/hexamer_mutation_data/hg38.panTro5.net.axt', \"r+\")\n",
    "out_file = open('/home/alisay/hexamer_mutation_data/hg38.panTro5.six_mers', \"w\")\n",
    "thedatawriter = csv.writer(out_file)\n",
    "\n",
    "while True:\n",
    "    line = file.readline()\n",
    "    if not line: break\n",
    "    if line.startswith(\"#\") or line.startswith(\"\\n\"):\n",
    "        continue\n",
    "    human = file.readline().strip().upper()\n",
    "    if not human: break\n",
    "    chimp = file.readline().strip().upper()\n",
    "    for idx in range(0,len(human)):\n",
    "        if ((human[idx] != chimp[idx]) and (human[idx] != \"-\") and (chimp[idx] != \"-\")):\n",
    "            #print(idx,\" \",human[idx],\" \",chimp[idx],\"\\n\")\n",
    "            for start in range(max(0,idx-k+1),min(idx+1,len(human)-k+1)):\n",
    "                h_kmer = human[start:(start+k)]\n",
    "                c_kmer = chimp[start:(start+k)]\n",
    "                if ((\"-\" not in h_kmer) and (\"-\" not in c_kmer) and (\"N\" not in h_kmer) and (\"N\" not in c_kmer)\n",
    "                   and (sum(ch1 != ch2 for ch1, ch2 in zip(h_kmer, c_kmer)) == 1)):\n",
    "                    #if (h_kmer == \"AA\" and c_kmer == \"TT\"):\n",
    "                    #print(line)\n",
    "                    #print(idx)\n",
    "                    #print(start)\n",
    "                    kmer_dict[h_kmer][c_kmer] += 1 \n",
    "\n",
    "#output\n",
    "thedatawriter.writerow([\"kmer\"] + kmer_list)\n",
    "for i in kmer_list:\n",
    "    row = [i]\n",
    "    for j in kmer_list:\n",
    "        row.append(kmer_dict[i][j])\n",
    "        #print(i, \" \", j, \" \", kmer_dict[i][j])\n",
    "    thedatawriter.writerow(row)\n",
    "out_file.close()  \n",
    "\n",
    "n2=dt.datetime.now()\n",
    "print((n2-n1).seconds)"
   ]
  },
  {
   "cell_type": "code",
   "execution_count": 61,
   "metadata": {
    "collapsed": false
   },
   "outputs": [],
   "source": [
    "    "
   ]
  },
  {
   "cell_type": "code",
   "execution_count": null,
   "metadata": {
    "collapsed": false
   },
   "outputs": [],
   "source": []
  },
  {
   "cell_type": "code",
   "execution_count": null,
   "metadata": {
    "collapsed": true
   },
   "outputs": [],
   "source": []
  }
 ],
 "metadata": {
  "kernelspec": {
   "display_name": "Python 3",
   "language": "python",
   "name": "python3"
  },
  "language_info": {
   "codemirror_mode": {
    "name": "ipython",
    "version": 3
   },
   "file_extension": ".py",
   "mimetype": "text/x-python",
   "name": "python",
   "nbconvert_exporter": "python",
   "pygments_lexer": "ipython3",
   "version": "3.4.3"
  }
 },
 "nbformat": 4,
 "nbformat_minor": 0
}
