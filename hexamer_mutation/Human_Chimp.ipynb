{
 "cells": [
  {
   "cell_type": "markdown",
   "metadata": {},
   "source": [
    "## http://hgdownload.cse.ucsc.edu/goldenPath/hg38/vsPanTro5/\n",
    "## hg38.panTro5.net.axt.gz    04-Aug-2016 01:50  1.5G "
   ]
  },
  {
   "cell_type": "code",
   "execution_count": 2,
   "metadata": {
    "collapsed": false
   },
   "outputs": [
    {
     "data": {
      "text/html": [
       "<script>\n",
       "code_show=true; \n",
       "function code_toggle() {\n",
       " if (code_show){\n",
       " $('div.input').hide();\n",
       " } else {\n",
       " $('div.input').show();\n",
       " }\n",
       " code_show = !code_show\n",
       "} \n",
       "$( document ).ready(code_toggle);\n",
       "</script>\n",
       "The raw code for this IPython notebook is by default hidden for easier reading.\n",
       "To toggle on/off the raw code, click <a href=\"javascript:code_toggle()\">here</a>."
      ],
      "text/plain": [
       "<IPython.core.display.HTML object>"
      ]
     },
     "execution_count": 2,
     "metadata": {},
     "output_type": "execute_result"
    }
   ],
   "source": [
    "from IPython.display import HTML\n",
    "HTML('''<script>\n",
    "code_show=true; \n",
    "function code_toggle() {\n",
    " if (code_show){\n",
    " $('div.input').hide();\n",
    " } else {\n",
    " $('div.input').show();\n",
    " }\n",
    " code_show = !code_show\n",
    "} \n",
    "$( document ).ready(code_toggle);\n",
    "</script>\n",
    "The raw code for this IPython notebook is by default hidden for easier reading.\n",
    "To toggle on/off the raw code, click <a href=\"javascript:code_toggle()\">here</a>.''')"
   ]
  },
  {
   "cell_type": "markdown",
   "metadata": {},
   "source": [
    "# Version 3 Visualization"
   ]
  },
  {
   "cell_type": "markdown",
   "metadata": {},
   "source": [
    "## Two-mer matrix: AA -> AC = ln (observed/expected) ;  \n",
    "## observed = # AA->AC, expected = #AA x pr(A->A) x pr(A->C)"
   ]
  },
  {
   "cell_type": "code",
   "execution_count": 70,
   "metadata": {
    "collapsed": false
   },
   "outputs": [
    {
     "name": "stdout",
     "output_type": "stream",
     "text": [
      "            AA        AC        AG        AT        CA        CC        CG  \\\n",
      "kmer                                                                         \n",
      "AA    0.005385 -0.068529 -0.350868 -0.105396  0.047029  1.918901  0.232927   \n",
      "AC    0.217308 -0.008033  0.242768  0.343913  2.117146  0.222524  1.041718   \n",
      "AG   -0.387045 -0.057496  0.005200 -0.257118  1.698165  1.264586 -0.477082   \n",
      "AT    0.094446  0.273513 -0.019723 -0.005496  1.682517  0.827489  0.508279   \n",
      "CA   -0.023519  1.776766  1.629135  1.563654  0.001007  0.042137  0.255164   \n",
      "CC    1.692346 -0.197301  1.186371  0.531992  0.033593  0.006873 -0.497895   \n",
      "CG    1.811553  2.209376  1.074036  1.930891  1.895608  1.131056 -0.171510   \n",
      "CT    1.362568  0.768672  1.221119 -0.255613 -0.064286  0.001722 -0.476193   \n",
      "GA   -0.311418  0.640285  0.530986  0.968176  0.047189  1.007655  0.466212   \n",
      "GC    0.801362 -0.100130  0.816865  0.656484  1.319952 -0.051762  1.205338   \n",
      "GG    0.036507  0.405135 -0.074910  0.496612  1.464246  0.965591 -0.503030   \n",
      "GT    0.991378  0.971533  1.056892  0.344648  1.375975  0.803994  1.049319   \n",
      "TA    0.256848  1.510718  0.930588  2.560066  0.086811  0.678421  0.589550   \n",
      "TC    1.874851 -0.274330  1.186064  0.951943  0.871174 -0.199879  0.451369   \n",
      "TG    0.597600  0.933776 -0.142931  1.561970  2.429168  1.458260  0.253476   \n",
      "TT    3.414994  0.685611  1.318642 -0.107495  0.672251  0.218462  0.270382   \n",
      "\n",
      "            CT        GA        GC        GG        GT        TA        TC  \\\n",
      "kmer                                                                         \n",
      "AA    1.287381 -0.439081  0.738182  0.201710  0.700697 -0.143369  1.657595   \n",
      "AC    1.061113  0.816036  0.112906  0.793068  0.974010  1.539618 -0.103290   \n",
      "AG    1.174189  0.380759  0.760812 -0.001030  0.765781  0.579594  1.023677   \n",
      "AT   -0.023231  1.012655  0.755777  0.773284  0.275272  2.384093  1.006093   \n",
      "CA   -0.145613 -0.184575  1.223731  1.441142  0.934267 -0.397156  0.625381   \n",
      "CC   -0.072702  0.827811 -0.227285  0.920676  0.415949  0.222715 -0.434071   \n",
      "CG    1.072921  1.793198  2.537295  1.133580  2.171461  1.781357  1.829273   \n",
      "CT    0.005163  1.032869  0.753036  1.235131 -0.055746  0.590233  0.381419   \n",
      "GA    1.179861  0.005467 -0.095575 -0.202660 -0.273829 -0.264457  1.047979   \n",
      "GC    0.807896 -0.146483  0.002941 -0.054380 -0.100112  0.735916 -0.143949   \n",
      "GG    1.207539 -0.433915 -0.226999  0.006909 -0.197023  0.227390  0.819043   \n",
      "GT    0.242196 -0.101291  0.113017  0.219846 -0.008040  1.512309  0.845731   \n",
      "TA    0.956313  0.015087  0.949812  0.686314  1.429478 -0.002696  0.012653   \n",
      "TC    0.515529  1.105949 -0.090269  1.016667  0.650570 -0.265507  0.005437   \n",
      "TG    1.615246  0.617214  1.230581  0.038243  1.739904 -0.396867 -0.183301   \n",
      "TT   -0.350492  1.676909  0.762055  1.897061 -0.070341 -0.143036 -0.438826   \n",
      "\n",
      "            TG        TT  \n",
      "kmer                      \n",
      "AA    0.665709  3.421674  \n",
      "AC    1.355783  0.989291  \n",
      "AG   -0.070403  1.336071  \n",
      "AT    1.726152  0.099863  \n",
      "CA    2.425877  0.614262  \n",
      "CC    1.459840  0.032916  \n",
      "CG    1.895988  1.811862  \n",
      "CT    1.693087 -0.387660  \n",
      "GA    0.859543  1.842013  \n",
      "GC    1.286193  0.809722  \n",
      "GG    0.031097  1.689415  \n",
      "GT    2.106084  0.217842  \n",
      "TA    0.086965  0.255313  \n",
      "TC    0.047143 -0.311471  \n",
      "TG    0.001024 -0.020081  \n",
      "TT    0.045814  0.005371  \n"
     ]
    },
    {
     "data": {
      "image/png": "[encoded data removed]",
      "text/plain": [
       "<matplotlib.figure.Figure at 0x7fb3f2d7fa20>"
      ]
     },
     "metadata": {},
     "output_type": "display_data"
    }
   ],
   "source": [
    "%matplotlib inline\n",
    "import numpy as np\n",
    "import pandas as pd\n",
    "import matplotlib.pyplot as plt\n",
    "import csv\n",
    "from itertools import product\n",
    "\n",
    "import datetime as dt\n",
    "n1=dt.datetime.now()\n",
    "\n",
    "bases=['A','C','G','T']\n",
    "k = 2\n",
    "kmer_list = [''.join(p) for p in product(bases, repeat=k)]\n",
    "        \n",
    "count_table = pd.read_csv(\"/home/alisay/hexamer_mutation_data/hg38.panTro5.two_mers_transitions\",index_col=0, header=0)\n",
    "#print(count_table)\n",
    "two_mer_frequency_table = pd.read_csv(\"/home/alisay/hexamer_mutation_data/hg38.panTro5.two_mers_frequency\",index_col=0, header=0)\n",
    "#print(two_mer_frequency_table)\n",
    "\n",
    "one_mer_count_table = pd.read_csv(\"/home/alisay/hexamer_mutation_data/hg38.panTro5.one_mers_transitions\",index_col=0, header=0)\n",
    "#print(one_mer_count_table)\n",
    "one_mer_frequency_table = pd.read_csv(\"/home/alisay/hexamer_mutation_data/hg38.panTro5.one_mers_frequency\",index_col=0, header=0)\n",
    "#print(one_mer_frequency_table)\n",
    "\n",
    "# fill the diagonal with very high values\n",
    "#np.fill_diagonal(count_table.values, 10000000)\n",
    "\n",
    "# perform the computation\n",
    "\n",
    "for row_header in kmer_list:\n",
    "    for col_header in kmer_list:\n",
    "        prob_first_onemer = one_mer_count_table.loc[row_header[0]][col_header[0]]/one_mer_frequency_table.loc[row_header[0]]['frequency']\n",
    "        prob_second_onemer = one_mer_count_table.loc[row_header[1]][col_header[1]]/one_mer_frequency_table.loc[row_header[1]]['frequency']\n",
    "        count_table.loc[row_header][col_header] = np.log(count_table.loc[row_header][col_header]/(two_mer_frequency_table.loc[row_header]['frequency'] * prob_first_onemer * prob_second_onemer))\n",
    "print(count_table)\n",
    "    \n",
    "plt.figure(1, figsize=(10, 7))\n",
    "ax = plt.subplot(1, 1, 1)\n",
    "heatmap = ax.pcolor(count_table, cmap=plt.cm.Blues)\n",
    "plt.colorbar(heatmap)\n",
    "\n",
    "# turn off the frame\n",
    "ax.set_frame_on(False)\n",
    "\n",
    "# put the major ticks at the middle of each cell\n",
    "ax.set_yticks(np.arange(count_table.shape[0]) + 0.5, minor=False)\n",
    "ax.set_xticks(np.arange(count_table.shape[1]) + 0.5, minor=False)\n",
    "\n",
    "#make display more natural\n",
    "ax.invert_yaxis()\n",
    "ax.xaxis.tick_top()\n",
    "ax.xaxis.set_label_position('top')\n",
    "\n",
    "# set labels\n",
    "ax.set_xticklabels(count_table.columns, minor=False)\n",
    "ax.set_yticklabels(count_table.index, minor=False)\n",
    "\n",
    "# rotate the x labels\n",
    "#plt.xticks(rotation=90)\n",
    "\n",
    "#ax.grid(True)\n",
    "ax.grid(False)\n",
    "\n",
    "# Turn off all the ticks\n",
    "ax = plt.gca()\n",
    "\n",
    "for t in ax.xaxis.get_major_ticks():\n",
    "    t.tick1On = False\n",
    "    t.tick2On = False\n",
    "for t in ax.yaxis.get_major_ticks():\n",
    "    t.tick1On = False\n",
    "    t.tick2On = False\n",
    "    \n",
    "plt.xlabel(\"Chimp\")\n",
    "plt.ylabel(\"Human\")\n",
    "\n",
    "plt.show()"
   ]
  },
  {
   "cell_type": "markdown",
   "metadata": {
    "collapsed": true
   },
   "source": [
    "## One-mer matrix: There are twice as many A->G (~0.8 %) as (A->T + A->C = ~0.2%) - seems about right"
   ]
  },
  {
   "cell_type": "code",
   "execution_count": 1,
   "metadata": {
    "collapsed": false
   },
   "outputs": [
    {
     "data": {
      "image/png": "[encoded data removed]",
      "text/plain": [
       "<matplotlib.figure.Figure at 0x7fb4036eaa90>"
      ]
     },
     "metadata": {},
     "output_type": "display_data"
    }
   ],
   "source": [
    "%matplotlib inline\n",
    "import numpy as np\n",
    "import pandas as pd\n",
    "import matplotlib.pyplot as plt\n",
    "import csv\n",
    "from itertools import product\n",
    "\n",
    "import datetime as dt\n",
    "n1=dt.datetime.now()\n",
    "\n",
    "bases=['A','C','G','T']\n",
    "k = 2\n",
    "        \n",
    "count_table = pd.read_csv(\"/home/alisay/hexamer_mutation_data/hg38.panTro5.one_mers_transitions\",index_col=0, header=0)\n",
    "#print(count_table)\n",
    "\n",
    "# fill the diagonal with very high values\n",
    "np.fill_diagonal(count_table.values, 10000000)\n",
    "\n",
    "\n",
    "plt.figure(1, figsize=(10, 7))\n",
    "ax = plt.subplot(1, 1, 1)\n",
    "heatmap = ax.pcolor(count_table, cmap=plt.cm.Blues)\n",
    "plt.colorbar(heatmap)\n",
    "\n",
    "# turn off the frame\n",
    "ax.set_frame_on(False)\n",
    "\n",
    "# put the major ticks at the middle of each cell\n",
    "ax.set_yticks(np.arange(count_table.shape[0]) + 0.5, minor=False)\n",
    "ax.set_xticks(np.arange(count_table.shape[1]) + 0.5, minor=False)\n",
    "\n",
    "#make display more natural\n",
    "ax.invert_yaxis()\n",
    "ax.xaxis.tick_top()\n",
    "ax.xaxis.set_label_position('top')\n",
    "\n",
    "# set labels\n",
    "ax.set_xticklabels(count_table.columns, minor=False)\n",
    "ax.set_yticklabels(count_table.index, minor=False)\n",
    "\n",
    "# rotate the x labels\n",
    "#plt.xticks(rotation=90)\n",
    "\n",
    "#ax.grid(True)\n",
    "ax.grid(False)\n",
    "\n",
    "# Turn off all the ticks\n",
    "ax = plt.gca()\n",
    "\n",
    "for t in ax.xaxis.get_major_ticks():\n",
    "    t.tick1On = False\n",
    "    t.tick2On = False\n",
    "for t in ax.yaxis.get_major_ticks():\n",
    "    t.tick1On = False\n",
    "    t.tick2On = False\n",
    "    \n",
    "plt.xlabel(\"Chimp\")\n",
    "plt.ylabel(\"Human\")\n",
    "\n",
    "plt.show()"
   ]
  },
  {
   "cell_type": "markdown",
   "metadata": {},
   "source": [
    "# Version 3 Calculation:  just get the raw values of transitions from kmer to kmer"
   ]
  },
  {
   "cell_type": "code",
   "execution_count": null,
   "metadata": {
    "collapsed": false
   },
   "outputs": [
    {
     "name": "stdout",
     "output_type": "stream",
     "text": [
      "3506\n"
     ]
    }
   ],
   "source": [
    "import csv\n",
    "from itertools import product\n",
    "\n",
    "import datetime as dt\n",
    "n1=dt.datetime.now()\n",
    "\n",
    "bases=['A','C','G','T']\n",
    "k = 2\n",
    "kmer_dict = dict()\n",
    "kmer_freq = dict()\n",
    "kmer_list = [''.join(p) for p in product(bases, repeat=k)]\n",
    "for i in kmer_list:\n",
    "    kmer_dict[i] = dict()\n",
    "    kmer_freq[i] = 0 # keeps track of the frequency of a particular k-mer\n",
    "    for j in kmer_list:\n",
    "        kmer_dict[i][j] = 0.0\n",
    "\n",
    "file = open('/home/alisay/hexamer_mutation_data/hg38.panTro5.net.axt', \"r+\")\n",
    "out_file_transitions = open('/home/alisay/hexamer_mutation_data/hg38.panTro5.two_mers_transitions', \"w\")\n",
    "out_file_frequency = open('/home/alisay/hexamer_mutation_data/hg38.panTro5.two_mers_frequency', \"w\")\n",
    "thedatawriter_transitions = csv.writer(out_file_transitions)\n",
    "thedatawriter_frequency = csv.writer(out_file_frequency)\n",
    "\n",
    "counter = 1\n",
    "while True:\n",
    "    line = file.readline()\n",
    "    if not line: break\n",
    "    if line.startswith(\"#\") or line.startswith(\"\\n\"):\n",
    "        continue\n",
    "    counter += 1\n",
    "    human = file.readline().strip().upper()\n",
    "    if not human: break\n",
    "    chimp = file.readline().strip().upper()\n",
    "    for idx in range(0,len(human)-k):\n",
    "        h_kmer = human[idx:(idx+k)]\n",
    "        c_kmer = chimp[idx:(idx+k)]\n",
    "        if (h_kmer in kmer_dict):\n",
    "            if (c_kmer in kmer_dict[h_kmer]):\n",
    "                kmer_freq[h_kmer] += 1 # update the frequency in the human genome\n",
    "                kmer_dict[h_kmer][c_kmer] += 1 \n",
    "    #if(counter%1000==0):\n",
    "     #   print(counter)\n",
    "        \n",
    "#output\n",
    "thedatawriter_transitions.writerow([\"kmer\"] + kmer_list)\n",
    "thedatawriter_frequency.writerow([\"kmer\",\"frequency\"])\n",
    "for i in kmer_list:\n",
    "    row = [i]\n",
    "    frequency_row = [i]\n",
    "    frequency_row.append(kmer_freq[i])\n",
    "    thedatawriter_frequency.writerow(frequency_row)\n",
    "    for j in kmer_list:\n",
    "        row.append(kmer_dict[i][j]*1.0)\n",
    "    thedatawriter_transitions.writerow(row)\n",
    "out_file_transitions.close()  \n",
    "out_file_frequency.close()\n",
    "\n",
    "n2=dt.datetime.now()\n",
    "print((n2-n1).seconds)"
   ]
  },
  {
   "cell_type": "markdown",
   "metadata": {},
   "source": [
    "# Second Version Visualization\n",
    "## Explanation of the patterns for un-normalized two-mer transitions\n",
    "##  Symmetry is explained by, well, symmetry:  the AA->AG dark square has a symmetric AA->GA dark square;  the darkest tansitions are purine->purine and pyramidine->pyramidine; \n"
   ]
  },
  {
   "cell_type": "code",
   "execution_count": 45,
   "metadata": {
    "collapsed": false
   },
   "outputs": [
    {
     "data": {
      "image/png": "[encoded data removed]",
      "text/plain": [
       "<matplotlib.figure.Figure at 0x7fb3cdbd2c50>"
      ]
     },
     "metadata": {},
     "output_type": "display_data"
    }
   ],
   "source": [
    "%matplotlib inline\n",
    "import numpy as np\n",
    "import pandas as pd\n",
    "import matplotlib.pyplot as plt\n",
    "import csv\n",
    "from itertools import product\n",
    "\n",
    "import datetime as dt\n",
    "n1=dt.datetime.now()\n",
    "\n",
    "bases=['A','C','G','T']\n",
    "k = 2\n",
    "\n",
    "        \n",
    "count_table = pd.read_csv(\"/home/alisay/hexamer_mutation_data/hg38.panTro5.two_mers_full\",index_col=0, header=0)\n",
    "#print(count_table)\n",
    "\n",
    "# fill the diagonal with very high values\n",
    "np.fill_diagonal(count_table.values, 3000000)\n",
    "\n",
    "\n",
    "plt.figure(1, figsize=(10, 7))\n",
    "ax = plt.subplot(1, 1, 1)\n",
    "heatmap = ax.pcolor(count_table, cmap=plt.cm.Blues)\n",
    "plt.colorbar(heatmap)\n",
    "\n",
    "# turn off the frame\n",
    "ax.set_frame_on(False)\n",
    "\n",
    "# put the major ticks at the middle of each cell\n",
    "ax.set_yticks(np.arange(count_table.shape[0]) + 0.5, minor=False)\n",
    "ax.set_xticks(np.arange(count_table.shape[1]) + 0.5, minor=False)\n",
    "\n",
    "#make display more natural\n",
    "ax.invert_yaxis()\n",
    "ax.xaxis.tick_top()\n",
    "ax.xaxis.set_label_position('top')\n",
    "\n",
    "# set labels\n",
    "ax.set_xticklabels(count_table.columns, minor=False)\n",
    "ax.set_yticklabels(count_table.index, minor=False)\n",
    "\n",
    "# rotate the x labels\n",
    "#plt.xticks(rotation=90)\n",
    "\n",
    "#ax.grid(True)\n",
    "ax.grid(False)\n",
    "\n",
    "# Turn off all the ticks\n",
    "ax = plt.gca()\n",
    "\n",
    "for t in ax.xaxis.get_major_ticks():\n",
    "    t.tick1On = False\n",
    "    t.tick2On = False\n",
    "for t in ax.yaxis.get_major_ticks():\n",
    "    t.tick1On = False\n",
    "    t.tick2On = False\n",
    "    \n",
    "plt.xlabel(\"Chimp\")\n",
    "plt.ylabel(\"Human\")\n",
    "\n",
    "plt.show()"
   ]
  },
  {
   "cell_type": "markdown",
   "metadata": {},
   "source": [
    "# Second Version Code\n",
    "## counts no-changes, and when there is more than 1 difference between 2 n-mers\n",
    "## also, for each n-mer, normalize by the total n-mer count in the genome"
   ]
  },
  {
   "cell_type": "code",
   "execution_count": 30,
   "metadata": {
    "collapsed": false
   },
   "outputs": [
    {
     "name": "stdout",
     "output_type": "stream",
     "text": [
      "3694\n"
     ]
    }
   ],
   "source": [
    "import csv\n",
    "from itertools import product\n",
    "\n",
    "import datetime as dt\n",
    "n1=dt.datetime.now()\n",
    "\n",
    "bases=['A','C','G','T']\n",
    "k = 2\n",
    "kmer_dict = dict()\n",
    "kmer_freq = dict()\n",
    "kmer_list = [''.join(p) for p in product(bases, repeat=k)]\n",
    "for i in kmer_list:\n",
    "    kmer_dict[i] = dict()\n",
    "    kmer_freq[i] = 0 # keeps track of the frequency of a particular k-mer\n",
    "    for j in kmer_list:\n",
    "        kmer_dict[i][j] = 0\n",
    "\n",
    "file = open('/home/alisay/hexamer_mutation_data/hg38.panTro5.net.axt', \"r+\")\n",
    "out_file = # open('/home/alisay/hexamer_mutation_data/hg38.panTro5.two_mers', \"w\")\n",
    "thedatawriter = csv.writer(out_file)\n",
    "\n",
    "counter = 1\n",
    "while True:\n",
    "    line = file.readline()\n",
    "    if not line: break\n",
    "    if line.startswith(\"#\") or line.startswith(\"\\n\"):\n",
    "        continue\n",
    "    counter += 1\n",
    "    human = file.readline().strip().upper()\n",
    "    if not human: break\n",
    "    chimp = file.readline().strip().upper()\n",
    "    for idx in range(0,len(human)-k):\n",
    "        h_kmer = human[idx:(idx+k)]\n",
    "        c_kmer = chimp[idx:(idx+k)]\n",
    "        if (h_kmer in kmer_dict):\n",
    "            kmer_freq[h_kmer] += 1 # update the frequency in the human genome\n",
    "            if (c_kmer in kmer_dict[h_kmer]):\n",
    "                kmer_dict[h_kmer][c_kmer] += 1 \n",
    "    #if(counter%1000==0):\n",
    "     #   print(counter)\n",
    "        \n",
    "#output\n",
    "thedatawriter.writerow([\"kmer\"] + kmer_list)\n",
    "for i in kmer_list:\n",
    "    row = [i]\n",
    "    for j in kmer_list:\n",
    "        row.append(kmer_dict[i][j]/kmer_freq[i]) #normalize by the total occurrence of the kmer in human\n",
    "        #print(i, \" \", j, \" \", kmer_dict[i][j])\n",
    "    thedatawriter.writerow(row)\n",
    "out_file.close()  \n",
    "\n",
    "n2=dt.datetime.now()\n",
    "print((n2-n1).seconds)"
   ]
  },
  {
   "cell_type": "markdown",
   "metadata": {},
   "source": [
    "# First Version, does not count no-changes, or when there is more than 1 difference between 2 n-mers"
   ]
  },
  {
   "cell_type": "code",
   "execution_count": 17,
   "metadata": {
    "collapsed": false
   },
   "outputs": [
    {
     "name": "stdout",
     "output_type": "stream",
     "text": [
      "1747\n"
     ]
    }
   ],
   "source": [
    "import csv\n",
    "from itertools import product\n",
    "\n",
    "import datetime as dt\n",
    "n1=dt.datetime.now()\n",
    "\n",
    "bases=['A','C','G','T']\n",
    "k = 6\n",
    "kmer_dict = dict()\n",
    "kmer_list = [''.join(p) for p in product(bases, repeat=k)]\n",
    "for i in kmer_list:\n",
    "    kmer_dict[i] = dict()\n",
    "    for j in kmer_list:\n",
    "        kmer_dict[i][j] = 0\n",
    "\n",
    "file = open('/home/alisay/hexamer_mutation_data/hg38.panTro5.net.axt', \"r+\")\n",
    "out_file = open('/home/alisay/hexamer_mutation_data/hg38.panTro5.six_mers', \"w\")\n",
    "thedatawriter = csv.writer(out_file)\n",
    "\n",
    "while True:\n",
    "    line = file.readline()\n",
    "    if not line: break\n",
    "    if line.startswith(\"#\") or line.startswith(\"\\n\"):\n",
    "        continue\n",
    "    human = file.readline().strip().upper()\n",
    "    if not human: break\n",
    "    chimp = file.readline().strip().upper()\n",
    "    for idx in range(0,len(human)):\n",
    "        if ((human[idx] != chimp[idx]) and (human[idx] != \"-\") and (chimp[idx] != \"-\")):\n",
    "            #print(idx,\" \",human[idx],\" \",chimp[idx],\"\\n\")\n",
    "            for start in range(max(0,idx-k+1),min(idx+1,len(human)-k+1)):\n",
    "                h_kmer = human[start:(start+k)]\n",
    "                c_kmer = chimp[start:(start+k)]\n",
    "                if ((\"-\" not in h_kmer) and (\"-\" not in c_kmer) and (\"N\" not in h_kmer) and (\"N\" not in c_kmer)\n",
    "                   and (sum(ch1 != ch2 for ch1, ch2 in zip(h_kmer, c_kmer)) == 1)):\n",
    "                    #if (h_kmer == \"AA\" and c_kmer == \"TT\"):\n",
    "                    #print(line)\n",
    "                    #print(idx)\n",
    "                    #print(start)\n",
    "                    kmer_dict[h_kmer][c_kmer] += 1 \n",
    "\n",
    "#output\n",
    "thedatawriter.writerow([\"kmer\"] + kmer_list)\n",
    "for i in kmer_list:\n",
    "    row = [i]\n",
    "    for j in kmer_list:\n",
    "        row.append(kmer_dict[i][j])\n",
    "        #print(i, \" \", j, \" \", kmer_dict[i][j])\n",
    "    thedatawriter.writerow(row)\n",
    "out_file.close()  \n",
    "\n",
    "n2=dt.datetime.now()\n",
    "print((n2-n1).seconds)"
   ]
  },
  {
   "cell_type": "code",
   "execution_count": 61,
   "metadata": {
    "collapsed": false
   },
   "outputs": [],
   "source": [
    "    "
   ]
  },
  {
   "cell_type": "code",
   "execution_count": null,
   "metadata": {
    "collapsed": false
   },
   "outputs": [],
   "source": []
  },
  {
   "cell_type": "code",
   "execution_count": null,
   "metadata": {
    "collapsed": true
   },
   "outputs": [],
   "source": []
  }
 ],
 "metadata": {
  "kernelspec": {
   "display_name": "Python 3",
   "language": "python",
   "name": "python3"
  },
  "language_info": {
   "codemirror_mode": {
    "name": "ipython",
    "version": 3
   },
   "file_extension": ".py",
   "mimetype": "text/x-python",
   "name": "python",
   "nbconvert_exporter": "python",
   "pygments_lexer": "ipython3",
   "version": "3.4.3"
  }
 },
 "nbformat": 4,
 "nbformat_minor": 0
}
