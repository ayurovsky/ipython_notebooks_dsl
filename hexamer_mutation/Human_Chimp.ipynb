{
 "cells": [
  {
   "cell_type": "markdown",
   "metadata": {},
   "source": [
    "## http://hgdownload.cse.ucsc.edu/goldenPath/hg38/vsPanTro5/\n",
    "## hg38.panTro5.net.axt.gz    04-Aug-2016 01:50  1.5G "
   ]
  },
  {
   "cell_type": "markdown",
   "metadata": {},
   "source": [
    "** Second Version\n",
    "** counts no-changes, and when there is more than 1 difference between 2 n-mers\n",
    "** also, for each n-mer, normalize by the total n-mer count in the genome"
   ]
  },
  {
   "cell_type": "code",
   "execution_count": null,
   "metadata": {
    "collapsed": true
   },
   "outputs": [],
   "source": []
  },
  {
   "cell_type": "markdown",
   "metadata": {},
   "source": [
    "** original Test, does not count no-changes, or when there is more than 1 difference between 2 n-mers"
   ]
  },
  {
   "cell_type": "code",
   "execution_count": 17,
   "metadata": {
    "collapsed": false
   },
   "outputs": [
    {
     "name": "stdout",
     "output_type": "stream",
     "text": [
      "1747\n"
     ]
    }
   ],
   "source": [
    "import csv\n",
    "from itertools import product\n",
    "\n",
    "import datetime as dt\n",
    "n1=dt.datetime.now()\n",
    "\n",
    "bases=['A','C','G','T']\n",
    "k = 6\n",
    "kmer_dict = dict()\n",
    "kmer_list = [''.join(p) for p in product(bases, repeat=k)]\n",
    "for i in kmer_list:\n",
    "    kmer_dict[i] = dict()\n",
    "    for j in kmer_list:\n",
    "        kmer_dict[i][j] = 0\n",
    "\n",
    "file = open('/home/alisay/hexamer_mutation_data/hg38.panTro5.net.axt', \"r+\")\n",
    "out_file = open('/home/alisay/hexamer_mutation_data/hg38.panTro5.six_mers', \"w\")\n",
    "thedatawriter = csv.writer(out_file)\n",
    "\n",
    "while True:\n",
    "    line = file.readline()\n",
    "    if not line: break\n",
    "    if line.startswith(\"#\") or line.startswith(\"\\n\"):\n",
    "        continue\n",
    "    human = file.readline().strip().upper()\n",
    "    if not human: break\n",
    "    chimp = file.readline().strip().upper()\n",
    "    for idx in range(0,len(human)):\n",
    "        if ((human[idx] != chimp[idx]) and (human[idx] != \"-\") and (chimp[idx] != \"-\")):\n",
    "            #print(idx,\" \",human[idx],\" \",chimp[idx],\"\\n\")\n",
    "            for start in range(max(0,idx-k+1),min(idx+1,len(human)-k+1)):\n",
    "                h_kmer = human[start:(start+k)]\n",
    "                c_kmer = chimp[start:(start+k)]\n",
    "                if ((\"-\" not in h_kmer) and (\"-\" not in c_kmer) and (\"N\" not in h_kmer) and (\"N\" not in c_kmer)\n",
    "                   and (sum(ch1 != ch2 for ch1, ch2 in zip(h_kmer, c_kmer)) == 1)):\n",
    "                    #if (h_kmer == \"AA\" and c_kmer == \"TT\"):\n",
    "                    #print(line)\n",
    "                    #print(idx)\n",
    "                    #print(start)\n",
    "                    kmer_dict[h_kmer][c_kmer] += 1 \n",
    "\n",
    "#output\n",
    "thedatawriter.writerow([\"kmer\"] + kmer_list)\n",
    "for i in kmer_list:\n",
    "    row = [i]\n",
    "    for j in kmer_list:\n",
    "        row.append(kmer_dict[i][j])\n",
    "        #print(i, \" \", j, \" \", kmer_dict[i][j])\n",
    "    thedatawriter.writerow(row)\n",
    "out_file.close()  \n",
    "\n",
    "n2=dt.datetime.now()\n",
    "print((n2-n1).seconds)"
   ]
  },
  {
   "cell_type": "code",
   "execution_count": 61,
   "metadata": {
    "collapsed": false
   },
   "outputs": [],
   "source": [
    "    "
   ]
  },
  {
   "cell_type": "code",
   "execution_count": null,
   "metadata": {
    "collapsed": false
   },
   "outputs": [],
   "source": []
  },
  {
   "cell_type": "code",
   "execution_count": null,
   "metadata": {
    "collapsed": true
   },
   "outputs": [],
   "source": []
  }
 ],
 "metadata": {
  "kernelspec": {
   "display_name": "Python 3",
   "language": "python",
   "name": "python3"
  },
  "language_info": {
   "codemirror_mode": {
    "name": "ipython",
    "version": 3
   },
   "file_extension": ".py",
   "mimetype": "text/x-python",
   "name": "python",
   "nbconvert_exporter": "python",
   "pygments_lexer": "ipython3",
   "version": "3.4.3"
  }
 },
 "nbformat": 4,
 "nbformat_minor": 0
}
