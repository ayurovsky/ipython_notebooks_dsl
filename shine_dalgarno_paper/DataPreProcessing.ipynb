{
 "cells": [
  {
   "cell_type": "code",
   "execution_count": 86,
   "metadata": {
    "collapsed": false
   },
   "outputs": [
    {
     "name": "stdout",
     "output_type": "stream",
     "text": [
      "Not found matches for  48  species\n"
     ]
    }
   ],
   "source": [
    "import csv\n",
    "import codecs\n",
    "import subprocess\n",
    "import os\n",
    "import re\n",
    "import glob\n",
    "\n",
    "species_names = []\n",
    "species_dict_by_name = dict()\n",
    "with codecs.open(\"DiwanSupplementOriginal.csv\", \"r\",encoding='utf-8', errors='ignore') as f:\n",
    "    for row in f:\n",
    "        if (row.startswith(\"Species\")):\n",
    "            continue\n",
    "        data = row.strip().split(\",\")\n",
    "        name = data[0].strip()\n",
    "        diwan_anti_sd = data[8][1:-1].upper()\n",
    "        diwan_anti_sd = diwan_anti_sd.replace('U', 'T')\n",
    "        revcompl = lambda x: ''.join([{'A':'T','C':'G','G':'C','T':'A'}[B] for B in x][::-1])\n",
    "        diwan_sd = revcompl(diwan_anti_sd)\n",
    "        #if (diwan_sd != \"AGGAGG\"):\n",
    "         #   print(name, \" \", diwan_sd)\n",
    "        species_names.append(name)\n",
    "        species_dict_by_name[name] = dict()\n",
    "        species_dict_by_name[name][\"diwan_sd\"] = diwan_sd\n",
    "        species_dict_by_name[name][\"found_data_files\"] = False\n",
    "        species_dict_by_name[name][\"assebly_file_prefix\"] = \"\"\n",
    "        species_dict_by_name[name][\"16S_end\"] = \"\"\n",
    "        \n",
    "        \n",
    "# read the large excel file, and find the correct genome\n",
    "with codecs.open(\"/scratch4/moamin/ncbi_bacteria_db/general_helix45_16s18_organism_information.csv\", \"r\",encoding='utf-8', errors='ignore') as f:\n",
    "    for row in f:\n",
    "        data = row.strip().split(\",\")\n",
    "        name = data[3].strip()\n",
    "        if (name in species_dict_by_name):\n",
    "            species_dict_by_name[name][\"16S_end\"] = data[23]\n",
    "            prefix = data[0]\n",
    "            species_dict_by_name[name][\"assebly_file_prefix\"] = prefix\n",
    "            species_dict_by_name[name][\"found_data_files\"] = True\n",
    "\n",
    "count = 0\n",
    "with open('DiwanDataFilesInfo.csv', 'w') as f:\n",
    "    csvWriter = csv.writer(f, delimiter=',')\n",
    "    csvWriter.writerow([\"name\",\"full_file_prefix\", \"16S_end\", \"Diwan_SD\"])\n",
    "    # count missing names, and get the full file path, output everything to a csv file\n",
    "    for name in species_names:\n",
    "        if (species_dict_by_name[name][\"found_data_files\"] == False):\n",
    "            #print(\"Not Found for \" + name)\n",
    "            count += 1\n",
    "        else:\n",
    "            prefix = species_dict_by_name[name][\"assebly_file_prefix\"]\n",
    "            #files = [f for f in os.listdir('/scratch4/moamin/ncbi_bacteria_db/GbBac_GFF/') if re.match(r'*.gz', f)]\n",
    "            names= glob.glob('/scratch4/moamin/ncbi_bacteria_db/GbBac_GFF/' + prefix + '*.gz')\n",
    "            if (len(names) > 1):\n",
    "                print(\"Error, more than 1 file with prefix:\", first)\n",
    "            else:\n",
    "                full_prefix = os.path.split(names[0])[1]\n",
    "                full_prefix = re.sub('_genomic\\.gff\\.gz$', '', full_prefix)\n",
    "                #print(full_prefix)\n",
    "                csvWriter.writerow([name, full_prefix, species_dict_by_name[name][\"16S_end\"], species_dict_by_name[name][\"diwan_sd\"]])\n",
    "        \n",
    "# getting 236 out of 285 species (found no matches for 48 species)\n",
    "print(\"Not found matches for \", count, \" species\")"
   ]
  },
  {
   "cell_type": "code",
   "execution_count": null,
   "metadata": {
    "collapsed": false
   },
   "outputs": [],
   "source": [
    "\n",
    "\n"
   ]
  },
  {
   "cell_type": "code",
   "execution_count": null,
   "metadata": {
    "collapsed": false
   },
   "outputs": [],
   "source": []
  },
  {
   "cell_type": "code",
   "execution_count": null,
   "metadata": {
    "collapsed": true
   },
   "outputs": [],
   "source": []
  }
 ],
 "metadata": {
  "kernelspec": {
   "display_name": "Python 3",
   "language": "python",
   "name": "python3"
  },
  "language_info": {
   "codemirror_mode": {
    "name": "ipython",
    "version": 3
   },
   "file_extension": ".py",
   "mimetype": "text/x-python",
   "name": "python",
   "nbconvert_exporter": "python",
   "pygments_lexer": "ipython3",
   "version": "3.4.3"
  }
 },
 "nbformat": 4,
 "nbformat_minor": 2
}
