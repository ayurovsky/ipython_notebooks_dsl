{
 "cells": [
  {
   "cell_type": "code",
   "execution_count": 49,
   "metadata": {
    "collapsed": false
   },
   "outputs": [
    {
     "name": "stdout",
     "output_type": "stream",
     "text": [
      "b'hello\\n'\n"
     ]
    }
   ],
   "source": [
    "#TODO:  after testing with sulfolobus, uncomment GTG in keep only valid orfs\n",
    "import subprocess\n",
    "\n",
    "def run_pipeline(file_prefix, input_path, output_path): \n",
    "    \n",
    "    # pre-process to get rid of bad orfs\n",
    "    cds_file = input_path + file_prefix + \"_cds_from_genomic.fna.gz\"\n",
    "    processed_cds_file = output_path + file_prefix + \"_cds_processed.fa\"\n",
    "    try:\n",
    "        ret = subprocess.check_output([\"perl\", \"keep_only_valid_orfs.pl\", cds_file, processed_cds_file], stderr=subprocess.STDOUT)\n",
    "    except subprocess.CalledProcessError as exc:\n",
    "        print(\"Problem executing keep_only_valid_orfs for\", cds_file, \"; \", exc.returncode, exc.output)\n",
    "    \n",
    "    # get the codon pair scores\n",
    "    codon_pair_scores_file = output_path + file_prefix + \"_pairwise_syn_shuffle_frm123.csv\"\n",
    "    codon_pair_scores_helper_file = output_path + file_prefix + \"_obs_exp_frm123.cts\"\n",
    "    try:\n",
    "        ret = subprocess.check_output([\"perl\", \"alisa_efficient_codon_pair_score_hexamers_paper.pl\", \"-s\", \\\n",
    "                                       processed_cds_file, \"-o\", file_prefix, \"-z\", \"10\"], stderr=subprocess.STDOUT)\n",
    "        print(ret)\n",
    "    except subprocess.CalledProcessError as exc:\n",
    "        print(\"Problem executing alisa_efficient_codon_pair_score_hexamers for\", cds_file, \"; \", exc.returncode, exc.output)\n",
    "    \n",
    "    \n",
    "    # cleanup: remove created temporary files\n",
    "    #TODO: rm processed_cds_file, codon_pair_scores_file, codon_pair_scores_helper_file\n",
    "    \n",
    "\n",
    "input_file_path = \"./\"\n",
    "output_file_path = \"./\"\n",
    "file_prefix = \"Sulfolobus_acidocaldarius\"\n",
    "run_pipeline(file_prefix, input_file_path, output_file_path)"
   ]
  },
  {
   "cell_type": "code",
   "execution_count": null,
   "metadata": {
    "collapsed": true
   },
   "outputs": [],
   "source": []
  }
 ],
 "metadata": {
  "kernelspec": {
   "display_name": "Python 3",
   "language": "python",
   "name": "python3"
  },
  "language_info": {
   "codemirror_mode": {
    "name": "ipython",
    "version": 3
   },
   "file_extension": ".py",
   "mimetype": "text/x-python",
   "name": "python",
   "nbconvert_exporter": "python",
   "pygments_lexer": "ipython3",
   "version": "3.4.3"
  }
 },
 "nbformat": 4,
 "nbformat_minor": 0
}
