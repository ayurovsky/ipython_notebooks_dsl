{
 "cells": [
  {
   "cell_type": "code",
   "execution_count": 61,
   "metadata": {
    "collapsed": false
   },
   "outputs": [
    {
     "name": "stdout",
     "output_type": "stream",
     "text": [
      "3\n",
      "GATATATGCTGCATACCAAGCAGCAGCCAT\n",
      "3\n",
      "DICCIPSSSH\n",
      "DICCIPSSSH\n"
     ]
    }
   ],
   "source": [
    "import csv\n",
    "%matplotlib inline\n",
    "import matplotlib.pyplot as plt\n",
    "import pandas as pd\n",
    "import sys\n",
    "\n",
    "aa_to_syn_codons_dict = dict()\n",
    "codon_to_aa_dict = dict()\n",
    "csvfile = open('AA_CODONS_MAP')\n",
    "reader = csv.reader(csvfile, delimiter='\\t')\n",
    "for row in reader:\n",
    "    mylist = row[3].split(',')\n",
    "    aa_to_syn_codons_dict[row[0]] = mylist\n",
    "    for codon in mylist:\n",
    "        codon_to_aa_dict[codon] = row[0]\n",
    "\n",
    "def num_pyramidine_dimers(seq):\n",
    "    num = 0\n",
    "    for i in range(0,(len(seq)-1)):\n",
    "        if ((seq[i] == \"T\" or seq[i] == \"C\") and (seq[i+1] == \"T\" or seq[i+1] == \"C\")):\n",
    "            num += 1\n",
    "    return(num)\n",
    "\n",
    "original_sequence = \"DICCIPSSSH\"\n",
    "store_best = [None] * len(original_sequence)\n",
    "for i in range(0,len(original_sequence)):\n",
    "    store_best[i] = dict()\n",
    "    for codon in aa_to_syn_codons_dict[original_sequence[i]]:\n",
    "        store_best[i][codon] = 0\n",
    "                \n",
    "# do the last AA\n",
    "for codon in store_best[-1]:\n",
    "    store_best[i][codon] = (num_pyramidine_dimers(codon),\"\")\n",
    "\n",
    "\n",
    "# do the dynamic program, stating from the one before the end of the list, until the end\n",
    "for pos in reversed(range(0, len(store_best)-1)):\n",
    "    for codon in store_best[pos]:\n",
    "        # consider as cost the cost of adding this codon to one of the best sequences\n",
    "        # from the previous suffix\n",
    "        # maximizer the dimers\n",
    "        best_prev = \"\"\n",
    "        best_cost = sys.maxsize #-1\n",
    "        for prev_codon in store_best[pos+1]:\n",
    "            cost = num_pyramidine_dimers(codon+prev_codon[0]) + store_best[pos+1][prev_codon][0]\n",
    "            # maximizer the dimers\n",
    "            if (cost < best_cost): #>\n",
    "                best_cost = cost\n",
    "                best_prev = prev_codon\n",
    "        store_best[pos][codon] = (best_cost, best_prev)\n",
    "\n",
    "recoded_sequence = \"\"\n",
    "next_codon = \"\"\n",
    "for pos in range(0, len(store_best)):\n",
    "    if pos == 0:\n",
    "        # maximum\n",
    "        best_first = \"\"\n",
    "        best_first_cost = sys.maxsize #-1\n",
    "        for codon in store_best[0]:\n",
    "            # maximum\n",
    "            if (store_best[pos][codon][0] < best_first_cost): #>\n",
    "                best_first = codon\n",
    "                best_first_cost = store_best[pos][codon][0]\n",
    "                next_codon = store_best[pos][codon][1]\n",
    "        print(best_first_cost)\n",
    "        recoded_sequence += best_first\n",
    "    else:\n",
    "        recoded_sequence += next_codon\n",
    "        next_codon = store_best[pos][next_codon][1]\n",
    "print(recoded_sequence)    \n",
    "print(num_pyramidine_dimers(recoded_sequence))\n",
    "back_to_original = \"\"\n",
    "for i in range(0,len(recoded_sequence),3):\n",
    "    back_to_original += codon_to_aa_dict[recoded_sequence[i:i+3]]\n",
    "print(back_to_original)\n",
    "print(original_sequence)"
   ]
  },
  {
   "cell_type": "code",
   "execution_count": null,
   "metadata": {
    "collapsed": true
   },
   "outputs": [],
   "source": []
  }
 ],
 "metadata": {
  "kernelspec": {
   "display_name": "Python 3",
   "language": "python",
   "name": "python3"
  },
  "language_info": {
   "codemirror_mode": {
    "name": "ipython",
    "version": 3
   },
   "file_extension": ".py",
   "mimetype": "text/x-python",
   "name": "python",
   "nbconvert_exporter": "python",
   "pygments_lexer": "ipython3",
   "version": "3.4.3"
  }
 },
 "nbformat": 4,
 "nbformat_minor": 0
}
